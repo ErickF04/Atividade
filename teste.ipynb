{
  "cells": [
    {
      "cell_type": "markdown",
      "metadata": {
        "id": "view-in-github",
        "colab_type": "text"
      },
      "source": [
        "<a href=\"https://colab.research.google.com/github/ErickF04/Atividade/blob/main/teste.ipynb\" target=\"_parent\"><img src=\"https://colab.research.google.com/assets/colab-badge.svg\" alt=\"Open In Colab\"/></a>"
      ]
    },
    {
      "cell_type": "code",
      "source": [
        "t1 = int(0)\n",
        "t2 = int(1)\n",
        "t3 = int(0)\n",
        "print (' ' *3, 'Atividade - 2')\n",
        "print ('-' *42)\n",
        "print (' ' *3, 'Consulta da Sequência de Fibonacci')\n",
        "print ('-' *42)\n",
        "val = int(input('Digite um número: '))\n",
        "print ('-' *42)\n",
        "while val > t3:\n",
        "  t3 = t1 + t2\n",
        "  t1 = t2\n",
        "  t2 = t3\n",
        "if val == 0 & val == 1:\n",
        " print ('O número faz parte da sequência de Fibonacci.')\n",
        "elif val == t3:\n",
        " print ('O número faz parte da sequência de Fibonacci.')\n",
        "else:\n",
        " print ('O número digitado não faz parte da sequência de Fibonacci.')"
      ],
      "metadata": {
        "id": "HJOnrK32Guu3"
      },
      "execution_count": null,
      "outputs": []
    },
    {
      "cell_type": "code",
      "source": [
        "print (' ' *3, 'Atividade - 4')\n",
        "print ('-' *42)\n",
        "sp = float(67.83643)\n",
        "rj = float(36.67866)\n",
        "mg = float(29.22988)\n",
        "es = float(27.16548)\n",
        "out = float(19.84953)\n",
        "total = float(sp + rj + mg + es + out)\n",
        "print(total)\n",
        "psp = ((sp*total)/100)\n",
        "prj = ((rj*total)/100)\n",
        "pmg = ((mg*total)/100)\n",
        "pes = ((es*total)/100)\n",
        "pout = ((out*total)/100)\n",
        "\n",
        "print('% de SP {}'.format(psp))\n",
        "print('%  de RJ {}'.format(prj))\n",
        "print('%  de MG {}'.format(pmg))\n",
        "print('%  de ES {}'.format(pes))\n",
        "print('%  de OUT {}'.format(pout))"
      ],
      "metadata": {
        "id": "UYDC-Ov6HZO4"
      },
      "execution_count": null,
      "outputs": []
    },
    {
      "cell_type": "code",
      "source": [
        "print (' ' *3, 'Atividade - 5')\n",
        "print ('-' *42)\n",
        "frase = 'Bom trabalha'\n",
        "i = frase [::-1]\n",
        "print(i)"
      ],
      "metadata": {
        "id": "Sm0HqR7kIH87"
      },
      "execution_count": null,
      "outputs": []
    }
  ],
  "metadata": {
    "colab": {
      "provenance": [],
      "authorship_tag": "ABX9TyO+QbPCCOubuF3bz5bAtgoe",
      "include_colab_link": true
    },
    "kernelspec": {
      "display_name": "Python 3",
      "name": "python3"
    },
    "language_info": {
      "name": "python"
    }
  },
  "nbformat": 4,
  "nbformat_minor": 0
}